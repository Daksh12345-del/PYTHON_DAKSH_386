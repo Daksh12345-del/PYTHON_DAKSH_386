{
 "cells": [
  {
   "cell_type": "code",
   "execution_count": null,
   "id": "a516c39d",
   "metadata": {},
   "outputs": [
    {
     "name": "stdout",
     "output_type": "stream",
     "text": [
      "['abcd', 786, 2.23, 'john', 70.2]\n",
      "abcd\n",
      "[786, 2.23]\n",
      "[2.23, 'john', 70.2]\n",
      "['abcd', 786, 2.23, 'john', 70.2, 123, 'xyz']\n",
      "['abcd', 786, 2.23, 'john', 70.2, 'abcd', 786, 2.23, 'john', 70.2]\n",
      "('abcd', 786, 2.23, 'john', 70.2)\n",
      "abcd\n",
      "(786, 2.23)\n",
      "(2.23, 'john', 70.2)\n",
      "('abcd', 786, 2.23, 'john', 70.2, 123, 'xyz')\n",
      "('abcd', 786, 2.23, 'john', 70.2, 'abcd', 786, 2.23, 'john', 70.2)\n",
      "1\n",
      "2\n",
      "3\n",
      "4\n"
     ]
    }
   ],
   "source": [
    "#SEQUENCE DATA TYPE:\n",
    "#LIST,TUPLE,DICTIONARY\n",
    "#LIST:[]\n",
    "#TUPLE:()\n",
    "#DICTIONARY:{}\n",
    "\n",
    "\n",
    "#list\n",
    "a=['abcd',786,2.23,\"john\",70.2]\n",
    "b=[123,\"xyz\"]\n",
    "print(a)\n",
    "print(a[0])\n",
    "print(a[1:3])\n",
    "print(a[2:])\n",
    "print(a+b)\n",
    "print(a*2)\n",
    "\n",
    "#tuple\n",
    "\n",
    "a=('abcd',786,2.23,\"john\",70.2)\n",
    "b=(123,\"xyz\")\n",
    "print(a)\n",
    "print(a[0])\n",
    "print(a[1:3])\n",
    "print(a[2:])\n",
    "print(a+b)\n",
    "print(a*2)\n",
    "\n",
    "#Python range data type\n",
    "#range(start,stop,step)\n",
    "for i in range(1,5):\n",
    "    print(i)\n",
    "for i in range(1,10,2):\n",
    "    print(i)\n",
    "\n"
   ]
  }
 ],
 "metadata": {
  "kernelspec": {
   "display_name": "base",
   "language": "python",
   "name": "python3"
  },
  "language_info": {
   "codemirror_mode": {
    "name": "ipython",
    "version": 3
   },
   "file_extension": ".py",
   "mimetype": "text/x-python",
   "name": "python",
   "nbconvert_exporter": "python",
   "pygments_lexer": "ipython3",
   "version": "3.11.7"
  }
 },
 "nbformat": 4,
 "nbformat_minor": 5
}
