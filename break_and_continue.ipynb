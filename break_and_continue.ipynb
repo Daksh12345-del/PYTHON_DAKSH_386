{
 "cells": [
  {
   "cell_type": "code",
   "execution_count": 12,
   "id": "f55f76e4",
   "metadata": {},
   "outputs": [
    {
     "name": "stdout",
     "output_type": "stream",
     "text": [
      "5 x 1 = 5\n",
      "5 x 2 = 10\n",
      "5 x 3 = 15\n",
      "5 x 4 = 20\n",
      "5 x 5 = 25\n",
      "5 x 6 = 30\n",
      "5 x 7 = 35\n",
      "5 x 8 = 40\n",
      "5 x 9 = 45\n",
      "5 x 10 = 50\n",
      "Jay bajrang bali maharaj ki\n"
     ]
    }
   ],
   "source": [
    "#break statement\n",
    "for i in range(12):\n",
    "    print(\"5 x\",i+1,\"=\",5*(i+1))\n",
    "    if(i==9):\n",
    "        break  #llop ko chodkar jao\n",
    "\n",
    "print(\"Jay bajrang bali maharaj ki\")"
   ]
  },
  {
   "cell_type": "code",
   "execution_count": null,
   "id": "f6edf753",
   "metadata": {},
   "outputs": [
    {
     "name": "stdout",
     "output_type": "stream",
     "text": [
      "Skip the iteration\n"
     ]
    }
   ],
   "source": [
    "#continue statement\n",
    "for i in range(12):\n",
    "    # print(\"5 x\",i+1,\"=\",5*(i+1))\n",
    "    # if(i==9):\n",
    "    #     print(\"Skip the iteration\")\n",
    "        # continue\n",
    "\n",
    "        print(\"5 x\",i+1,\"=\",5*(i+1))\n",
    "        if(i==9):\n",
    "              print(\"Skip the iteration\")\n",
    "              continue\n",
    "\n"
   ]
  }
 ],
 "metadata": {
  "kernelspec": {
   "display_name": "base",
   "language": "python",
   "name": "python3"
  },
  "language_info": {
   "codemirror_mode": {
    "name": "ipython",
    "version": 3
   },
   "file_extension": ".py",
   "mimetype": "text/x-python",
   "name": "python",
   "nbconvert_exporter": "python",
   "pygments_lexer": "ipython3",
   "version": "3.11.7"
  }
 },
 "nbformat": 4,
 "nbformat_minor": 5
}
