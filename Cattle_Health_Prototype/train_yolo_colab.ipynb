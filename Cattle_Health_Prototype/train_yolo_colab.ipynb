{
 "cells": [
  {
   "cell_type": "markdown",
   "metadata": {},
   "source": ["# YOLOv8 Training Notebook\n",
              "Upload your YOLO-labeled dataset and train the model here."]
  },
  {
   "cell_type": "code",
   "metadata": {},
   "source": ["!pip install -q ultralytics roboflow"]
  },
  {
   "cell_type": "code",
   "metadata": {},
   "source": ["from ultralytics import YOLO\n",
              "# Replace 'dataset/data.yaml' with your Roboflow dataset path\n",
              "model = YOLO('yolov8n.pt')  # nano model for fast prototyping\n",
              "model.train(data='dataset/data.yaml', epochs=30, imgsz=640, batch=16)"]
  },
  {
   "cell_type": "code",
   "metadata": {},
   "source": ["# Download trained weights\n",
              "model_path = 'runs/detect/train/weights/best.pt'\n",
              "from google.colab import files\n",
              "files.download(model_path)"]
  }
 ],
 "metadata": {},
 "nbformat": 4,
 "nbformat_minor": 5
}
