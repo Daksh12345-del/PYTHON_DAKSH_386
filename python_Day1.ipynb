{
 "cells": [
  {
   "cell_type": "code",
   "execution_count": 3,
   "id": "e7a5c14b",
   "metadata": {},
   "outputs": [
    {
     "data": {
      "text/plain": [
       "\"global x # using keyword to declare globally\\ny='WOW' #declaring globally in the code \""
      ]
     },
     "execution_count": 3,
     "metadata": {},
     "output_type": "execute_result"
    }
   ],
   "source": [
    "#Casing\n",
    "'''camelCase='Daksh'\n",
    "PascalCase='Singhal'\n",
    "snake_case='Daksh Singhal'''\n",
    "\n",
    "#Many to multiple Variable\n",
    "'''x,y,z=1,2,3\n",
    "print(id(x))\n",
    "print(id(y))\n",
    "print(id(z))'''\n",
    "\n",
    "#One to Multiple\n",
    "'''x,y,z,=6\n",
    "print(id(x))\n",
    "print(id(y))\n",
    "print(id(z))'''\n",
    "\n",
    "#Unpacking\n",
    "'''a=['apple','banana','cherry']\n",
    "x,y,z=a\n",
    "print(x)\n",
    "print(y)\n",
    "print(z)'''\n",
    "\n",
    "#Global Variable\n",
    "'''global x # using keyword to declare globally\n",
    "y='WOW' #declaring globally in the code '''\n",
    "\n",
    "#Function and Class\n"
   ]
  }
 ],
 "metadata": {
  "kernelspec": {
   "display_name": "base",
   "language": "python",
   "name": "python3"
  },
  "language_info": {
   "codemirror_mode": {
    "name": "ipython",
    "version": 3
   },
   "file_extension": ".py",
   "mimetype": "text/x-python",
   "name": "python",
   "nbconvert_exporter": "python",
   "pygments_lexer": "ipython3",
   "version": "3.11.7"
  }
 },
 "nbformat": 4,
 "nbformat_minor": 5
}
