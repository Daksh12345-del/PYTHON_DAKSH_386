{
 "cells": [
  {
   "cell_type": "code",
   "execution_count": null,
   "id": "e7a5c14b",
   "metadata": {},
   "outputs": [
    {
     "name": "stdout",
     "output_type": "stream",
     "text": [
      "4375172328\n",
      "4375172360\n",
      "4375172392\n"
     ]
    },
    {
     "ename": "TypeError",
     "evalue": "cannot unpack non-iterable int object",
     "output_type": "error",
     "traceback": [
      "\u001b[0;31m---------------------------------------------------------------------------\u001b[0m",
      "\u001b[0;31mTypeError\u001b[0m                                 Traceback (most recent call last)",
      "Cell \u001b[0;32mIn[4], line 13\u001b[0m\n\u001b[1;32m     10\u001b[0m \u001b[38;5;28mprint\u001b[39m(\u001b[38;5;28mid\u001b[39m(z))\n\u001b[1;32m     12\u001b[0m \u001b[38;5;66;03m#One to Multiple\u001b[39;00m\n\u001b[0;32m---> 13\u001b[0m x,y,z,\u001b[38;5;241m=\u001b[39m\u001b[38;5;241m6\u001b[39m\n\u001b[1;32m     14\u001b[0m \u001b[38;5;28mprint\u001b[39m(\u001b[38;5;28mid\u001b[39m(x))\n\u001b[1;32m     15\u001b[0m \u001b[38;5;28mprint\u001b[39m(\u001b[38;5;28mid\u001b[39m(y))\n",
      "\u001b[0;31mTypeError\u001b[0m: cannot unpack non-iterable int object"
     ]
    }
   ],
   "source": [
    "#Casing\n",
    "camelCase='Daksh'\n",
    "PascalCase='Singhal'\n",
    "snake_case='Daksh Singhal'\n",
    "\n",
    "#Many to multiple Variable\n",
    "x,y,z=1,2,3\n",
    "print(id(x))\n",
    "print(id(y))\n",
    "print(id(z))\n",
    "\n",
    "#One to Multiple\n",
    "x=6\n",
    "y=6\n",
    "z=6\n",
    "print(id(x))\n",
    "print(id(y))\n",
    "print(id(z))\n",
    "\n",
    "#Unpacking\n",
    "a=['apple','banana','cherry']\n",
    "x,y,z=a\n",
    "print(x)\n",
    "print(y)\n",
    "print(z)\n",
    "\n",
    "#Global Variable\n",
    "'''global x # using keyword to declare globally\n",
    "y='WOW' #declaring globally in the code '''\n",
    "\n",
    "#Function and Class\n"
   ]
  }
 ],
 "metadata": {
  "kernelspec": {
   "display_name": "base",
   "language": "python",
   "name": "python3"
  },
  "language_info": {
   "codemirror_mode": {
    "name": "ipython",
    "version": 3
   },
   "file_extension": ".py",
   "mimetype": "text/x-python",
   "name": "python",
   "nbconvert_exporter": "python",
   "pygments_lexer": "ipython3",
   "version": "3.11.7"
  }
 },
 "nbformat": 4,
 "nbformat_minor": 5
}
