{
 "cells": [
  {
   "cell_type": "code",
   "execution_count": 1,
   "id": "44a3af97",
   "metadata": {},
   "outputs": [],
   "source": [
    "# FOR LOOP\n",
    "# name=\"Daksh\"\n",
    "# for i in name:\n",
    "#     print(i,end=\", \")\n",
    "#     if(i==\"k\"):\n",
    "#         print(\"There is something special\")\n",
    "\n",
    "# list=['apple','mango','banana']\n",
    "# for i in list:\n",
    "#     print(i)\n",
    "#     for j in i:\n",
    "#         print(j)\n",
    "\n",
    "# for k in range(5):\n",
    "#     print(k+1)\n",
    "\n",
    "# for k in range(1,9):\n",
    "#     print(k)\n",
    "\n",
    "# for k in range(1,12,3):\n",
    "#     print(k)"
   ]
  },
  {
   "cell_type": "code",
   "execution_count": 2,
   "id": "1a1b9e59",
   "metadata": {},
   "outputs": [
    {
     "name": "stdout",
     "output_type": "stream",
     "text": [
      "2\n",
      "5\n",
      "Done with the loop\n"
     ]
    }
   ],
   "source": [
    "# WHILE LOOP\n",
    "i=int(input(\"Enter the number:\"))\n",
    "while(i<=4):\n",
    "    i=int(input(\"Enter the number:\"))\n",
    "    print(i)\n",
    "print(\"Done with the loop\")\n",
    "\n",
    "# count=5\n",
    "# while(count>0):\n",
    "#     print(count)          #this is an example of else while loop      \n",
    "#     count=count-1\n",
    "# else:\n",
    "#     print(\"I am inside else\")\n",
    "\n",
    "\n",
    "\n",
    "#do while loop used in c language\n",
    "# do{\n",
    "#     #loop body.   #One condition will alwys run irrespective of the condition is true or not then after that will look about the while loop\n",
    "# }while(condition):\n",
    "\n",
    "\n",
    "\n"
   ]
  }
 ],
 "metadata": {
  "kernelspec": {
   "display_name": "base",
   "language": "python",
   "name": "python3"
  },
  "language_info": {
   "codemirror_mode": {
    "name": "ipython",
    "version": 3
   },
   "file_extension": ".py",
   "mimetype": "text/x-python",
   "name": "python",
   "nbconvert_exporter": "python",
   "pygments_lexer": "ipython3",
   "version": "3.11.7"
  }
 },
 "nbformat": 4,
 "nbformat_minor": 5
}
