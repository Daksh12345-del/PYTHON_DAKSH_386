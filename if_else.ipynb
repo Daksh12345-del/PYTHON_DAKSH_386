{
 "cells": [
  {
   "cell_type": "code",
   "execution_count": 8,
   "id": "2d8ca97d",
   "metadata": {},
   "outputs": [
    {
     "name": "stdout",
     "output_type": "stream",
     "text": [
      "Your age is: 67\n",
      "You can drive\n",
      "YAY!\n"
     ]
    }
   ],
   "source": [
    "a=int(input(\"Enter your age is:\"))\n",
    "print(\"Your age is:\",a)\n",
    "#conditional operators:>,<,>=,<=,==,!=\n",
    "# print(a>18)\n",
    "# print(a<18)\n",
    "# print(a!=18)\n",
    "# print(a==18)\n",
    "# print(a<=18)\n",
    "# print(a>=18)\n",
    "if(a>18):\n",
    "    print(\"You can drive\")\n",
    "else:\n",
    "    print(\"You cannot drive\")\n",
    "print(\"YAY!\")    "
   ]
  },
  {
   "cell_type": "code",
   "execution_count": 9,
   "id": "6dff411d",
   "metadata": {},
   "outputs": [
    {
     "name": "stdout",
     "output_type": "stream",
     "text": [
      "YES\n"
     ]
    }
   ],
   "source": [
    "#ELIF CASE\n",
    "appleprice=100\n",
    "budget=200\n",
    "if(budget-appleprice>50):\n",
    "    print(\"YES\")\n",
    "elif(budget-appleprice>20):\n",
    "    print(\"OKAY\")\n",
    "else:\n",
    "    print(\"NO\")"
   ]
  },
  {
   "cell_type": "code",
   "execution_count": 10,
   "id": "998e2d5e",
   "metadata": {},
   "outputs": [
    {
     "name": "stdout",
     "output_type": "stream",
     "text": [
      "Number is between 11 and 20\n"
     ]
    }
   ],
   "source": [
    "#NESTED IF ELSE CASE\n",
    "num=18\n",
    "if(num<0):\n",
    "    print(\"Number is negative\")\n",
    "elif(num>0):\n",
    "    if(num<=10):\n",
    "        print(\"Number is between 1 to 10\")\n",
    "    elif(num>10 and num<=20):\n",
    "        print(\"Number is between 11 and 20\")\n",
    "    else:\n",
    "        print(\"Number is greater thean 20\")\n",
    "else:\n",
    "    print(\"Number is 0\")"
   ]
  }
 ],
 "metadata": {
  "kernelspec": {
   "display_name": "base",
   "language": "python",
   "name": "python3"
  },
  "language_info": {
   "codemirror_mode": {
    "name": "ipython",
    "version": 3
   },
   "file_extension": ".py",
   "mimetype": "text/x-python",
   "name": "python",
   "nbconvert_exporter": "python",
   "pygments_lexer": "ipython3",
   "version": "3.11.7"
  }
 },
 "nbformat": 4,
 "nbformat_minor": 5
}
