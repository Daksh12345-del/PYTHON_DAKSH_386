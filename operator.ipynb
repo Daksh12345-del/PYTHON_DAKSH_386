{
 "cells": [
  {
   "cell_type": "code",
   "execution_count": 1,
   "id": "38e155c8",
   "metadata": {},
   "outputs": [
    {
     "name": "stdout",
     "output_type": "stream",
     "text": [
      "a:21 b:10 a+b:31\n",
      "a:21 b:10 a-b:11\n",
      "a:21 b:10 a*b:210\n",
      "a:21 b:10 a/b:2.1\n",
      "a:21 b:10 a%b:1\n",
      "a:21 b:10 a**b:16679880978201\n"
     ]
    }
   ],
   "source": [
    "#Arthimetic Operator\n",
    "a=21\n",
    "b=10\n",
    "c=0\n",
    "c=a+b\n",
    "d=a-b\n",
    "e=a*b\n",
    "f=a/b\n",
    "g=a%b\n",
    "h=a**b\n",
    "print(\"a:{} b:{} a+b:{}\".format(a,b,c))\n",
    "print(\"a:{} b:{} a-b:{}\".format(a,b,d))\n",
    "print(\"a:{} b:{} a*b:{}\".format(a,b,e))\n",
    "print(\"a:{} b:{} a/b:{}\".format(a,b,f))\n",
    "print(\"a:{} b:{} a%b:{}\".format(a,b,g))\n",
    "print(\"a:{} b:{} a**b:{}\".format(a,b,h))"
   ]
  },
  {
   "cell_type": "code",
   "execution_count": 2,
   "id": "6a95e12e",
   "metadata": {},
   "outputs": [
    {
     "name": "stdout",
     "output_type": "stream",
     "text": [
      "Line 1-a is not equal to b\n",
      "Line 2-a is not equal to b\n",
      "Line 3-a is greater than b\n"
     ]
    }
   ],
   "source": [
    "#Comparison Operator\n",
    "a=21\n",
    "b=10\n",
    "if(a==b):\n",
    "    print(\"Line 1-a is equal to b\")\n",
    "else:\n",
    "        print(\"Line 1-a is not equal to b\")\n",
    "\n",
    "if(a!=b):\n",
    "      print(\"Line 2-a is not equal to b\")\n",
    "else:\n",
    "      print(\"Line 2-a is equal to b\")\n",
    "\n",
    "if(a<b):\n",
    "      print(\"Line 3-a is less than b\")\n",
    "else:\n",
    "      print(\"Line 3-a is greater than b\")"
   ]
  },
  {
   "cell_type": "code",
   "execution_count": 3,
   "id": "492400c0",
   "metadata": {},
   "outputs": [],
   "source": [
    "# #Assignment Operator\n",
    "# a=10 same as a=10\n",
    "# a+=30 same as a=a+30\n",
    "# a-=15 same as a=a-15\n",
    "# a*=10 same as a=a*10\n",
    "# a/=5 same as a=a/5\n",
    "# a%=5 same as a=a%5\n",
    "# a**=4 same as a=a**4\n",
    "# a//=6 same as a=a//5 (Floor Divison)\n",
    "# a&=5 same as a=a&5\n",
    "# a|=5 same as a=a|5\n",
    "# a^=5 same as a=a^5\n",
    "# a>>=5 same as a=a>>5\n",
    "# a<<=5 same as a=a<<5\n",
    "\n",
    " "
   ]
  },
  {
   "cell_type": "code",
   "execution_count": 4,
   "id": "0e60adc2",
   "metadata": {},
   "outputs": [],
   "source": [
    "#Bitwise Operator"
   ]
  },
  {
   "cell_type": "code",
   "execution_count": 5,
   "id": "3b4ea7b4",
   "metadata": {},
   "outputs": [
    {
     "name": "stdout",
     "output_type": "stream",
     "text": [
      "a: 10 b: 20 list: [1, 2, 3, 4, 5]\n",
      "a is not present in the list\n",
      "b is not present in the list\n"
     ]
    }
   ],
   "source": [
    "#Membership operator\n",
    "a=10\n",
    "b=20\n",
    "list=[1,2,3,4,5]\n",
    "print(\"a:\",a,\"b:\",b,\"list:\",list)\n",
    "if(a in list):\n",
    "    print(\"a is present in the list\")\n",
    "else:\n",
    "    print(\"a is not present in the list\")\n",
    "if(b not in list):\n",
    "    print(\"b is not present in the list\")\n",
    "else:\n",
    "    print(\"b is present in the list\")"
   ]
  },
  {
   "cell_type": "code",
   "execution_count": 6,
   "id": "2ad9879b",
   "metadata": {},
   "outputs": [
    {
     "name": "stdout",
     "output_type": "stream",
     "text": [
      "True\n",
      "False\n",
      "False\n",
      "True\n"
     ]
    }
   ],
   "source": [
    "#Identity operator\n",
    "a=[1,2,3,4,5]\n",
    "b=[1,2,3,4,5]\n",
    "c=a\n",
    "print(a is c)\n",
    "print(a is b)\n",
    "print(a is not c)\n",
    "print(a is not b)\n",
    "\n"
   ]
  }
 ],
 "metadata": {
  "kernelspec": {
   "display_name": "base",
   "language": "python",
   "name": "python3"
  },
  "language_info": {
   "codemirror_mode": {
    "name": "ipython",
    "version": 3
   },
   "file_extension": ".py",
   "mimetype": "text/x-python",
   "name": "python",
   "nbconvert_exporter": "python",
   "pygments_lexer": "ipython3",
   "version": "3.11.7"
  }
 },
 "nbformat": 4,
 "nbformat_minor": 5
}
