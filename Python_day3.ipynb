{
 "cells": [
  {
   "cell_type": "code",
   "execution_count": null,
   "id": "6aef29e3",
   "metadata": {},
   "outputs": [
    {
     "name": "stdout",
     "output_type": "stream",
     "text": [
      "rello World\n",
      "['Hello World']\n",
      "hello world\n",
      "my name is john and i am 36\n",
      "True\n",
      "False\n",
      "False\n",
      "a is gretaer than b\n",
      "True\n",
      "True\n"
     ]
    }
   ],
   "source": [
    "#Replace\n",
    "a=\"Hello World\"\n",
    "print(a.replace('H','r'))\n",
    "\n",
    "#split\n",
    "a=\"Hello World\"\n",
    "print(a.split(\",\"))\n",
    "\n",
    "#concat\n",
    "a=\"hello\" \n",
    "b=\"world\"\n",
    "print(a+\" \"+b)\n",
    "\n",
    "#format string\n",
    "\n",
    "#F string\n",
    "age=36\n",
    "txt=f\"my name is john and i am {age}\"\n",
    "print(txt)\n",
    "\n",
    "#Boolean\n",
    "print(10>9)\n",
    "print(10==9)\n",
    "print(10<9)\n",
    "\n",
    "#if and else\n",
    "a=200\n",
    "b=13\n",
    "if b>a:\n",
    "    print(\"b is greater than a\")\n",
    "else:\n",
    "    print(\"a is gretaer than b\")\n",
    "\n",
    "#Evaluate and variables\n",
    "#The bool() function allows you to evaluate any value, and give you True or False in return;\n",
    "print(bool(\"Hello\"))\n",
    "print(bool(15))\n",
    "\n",
    "\n",
    "#function can return a boolean\n",
    "def myfunction():\n",
    "    return True\n",
    "if myfunction():\n",
    "    print(\"Yes\")\n",
    "else:\n",
    "    print(\"No\")\n",
    "\n",
    "\n",
    "\n",
    "\n"
   ]
  }
 ],
 "metadata": {
  "kernelspec": {
   "display_name": "base",
   "language": "python",
   "name": "python3"
  },
  "language_info": {
   "codemirror_mode": {
    "name": "ipython",
    "version": 3
   },
   "file_extension": ".py",
   "mimetype": "text/x-python",
   "name": "python",
   "nbconvert_exporter": "python",
   "pygments_lexer": "ipython3",
   "version": "3.11.7"
  }
 },
 "nbformat": 4,
 "nbformat_minor": 5
}
