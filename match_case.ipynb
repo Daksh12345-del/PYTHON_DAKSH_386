{
 "cells": [
  {
   "cell_type": "code",
   "execution_count": null,
   "id": "8b57d564",
   "metadata": {},
   "outputs": [
    {
     "name": "stdout",
     "output_type": "stream",
     "text": [
      "x is 4\n"
     ]
    }
   ],
   "source": [
    "x=int(input(\"Enter the value of x:\"))\n",
    "match x: #it is same as swap case\n",
    "    case 0:\n",
    "        print(\"x is zero\")\n",
    "    case 4:\n",
    "        print(\"x is 4\")\n",
    "    case _ if x!=90:      \n",
    "        print(x,\"is not 90\")\n",
    "    case _ if x!=80:\n",
    "        print(x,\"is not 80\")      \n",
    "    case _:     #_ this underscore defines the default value\n",
    "        print(x)\n"
   ]
  }
 ],
 "metadata": {
  "kernelspec": {
   "display_name": "base",
   "language": "python",
   "name": "python3"
  },
  "language_info": {
   "codemirror_mode": {
    "name": "ipython",
    "version": 3
   },
   "file_extension": ".py",
   "mimetype": "text/x-python",
   "name": "python",
   "nbconvert_exporter": "python",
   "pygments_lexer": "ipython3",
   "version": "3.11.7"
  }
 },
 "nbformat": 4,
 "nbformat_minor": 5
}
