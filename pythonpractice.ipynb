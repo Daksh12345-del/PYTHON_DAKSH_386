{
 "cells": [
  {
   "cell_type": "code",
   "execution_count": 39,
   "id": "c2c0ebae",
   "metadata": {},
   "outputs": [
    {
     "name": "stdout",
     "output_type": "stream",
     "text": [
      "Daksh \n",
      "13\n",
      "Length of my name is 13\n",
      "Daksh Sing\n",
      "ha\n"
     ]
    }
   ],
   "source": [
    "name=\"Daksh Singhal\"\n",
    "print(name[0:6])\n",
    "print(len(name))\n",
    "len1=len(name)\n",
    "print(\"Length of my name is\",len1) \n",
    "print(name[0:len(name)-3])\n",
    "print(name[-3:-1])\n"
   ]
  },
  {
   "cell_type": "code",
   "execution_count": null,
   "id": "396ba3bf",
   "metadata": {},
   "outputs": [
    {
     "name": "stdout",
     "output_type": "stream",
     "text": [
      "19\n",
      "DAKSH SINGHAL!!!!!!\n",
      "daksh singhal!!!!!!\n",
      "Daksh Singhal\n",
      "Parth Singhal!!!!!!\n",
      "['Daksh', 'Singhal!!!!!!']\n",
      "Aarushi garg\n",
      "       Daksh Singhal!!!!!!       \n",
      "1\n",
      "True\n",
      "6\n",
      "6\n",
      "False\n",
      "False\n",
      "True\n",
      "False\n",
      "True\n",
      "False\n",
      "True\n",
      "True\n",
      "dAKSH sINGHAL!!!!!!\n"
     ]
    }
   ],
   "source": [
    "#Strings are immutable\n",
    "a=\"Daksh Singhal!!!!!!\"\n",
    "b=\"aarushi garg\"\n",
    "str=\"Welcome to the console\"\n",
    "print(len(a))\n",
    "print(a.upper()) \n",
    "print(a.lower())\n",
    "print(a.rstrip(\"!\"))#r.strip() help to remove a particular element from parenthesis\n",
    "print(a.replace(\"Daksh\",\"Parth\"))\n",
    "print(a.split()) #split help to make a string in a list.\n",
    "print(b.capitalize()) #capitalize help to make the first letter of string to upper form\n",
    "print(a.center(33))#ceneter helps to give spaces to align the string\n",
    "print(a.count(\"Daksh Singhal\"))#count helps to count the occurence if the element\n",
    "print(a.endswith(\"!!!!!!\"))\n",
    "print(a.find(\"Singhal\"))\n",
    "print(a.index(\"Singhal\"))\n",
    "print(b.isalnum())\n",
    "print(a.isalpha())\n",
    "print(b.islower())\n",
    "print(a.isupper())\n",
    "print(str.isprintable())\n",
    "print(a.isspace())\n",
    "print(a.istitle())#istitle return true when first letter of string is capital\n",
    "print(a.startswith(\"Daksh\"))\n",
    "print(a.swapcase())#swapcase gives the string in opposite size characters\n",
    "\n",
    "\n",
    "\n",
    "\n"
   ]
  }
 ],
 "metadata": {
  "kernelspec": {
   "display_name": "base",
   "language": "python",
   "name": "python3"
  },
  "language_info": {
   "codemirror_mode": {
    "name": "ipython",
    "version": 3
   },
   "file_extension": ".py",
   "mimetype": "text/x-python",
   "name": "python",
   "nbconvert_exporter": "python",
   "pygments_lexer": "ipython3",
   "version": "3.11.7"
  }
 },
 "nbformat": 4,
 "nbformat_minor": 5
}
