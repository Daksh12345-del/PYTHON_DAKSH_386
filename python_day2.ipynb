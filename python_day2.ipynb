{
 "cells": [
  {
   "cell_type": "code",
   "execution_count": 8,
   "id": "9c4ee3f0",
   "metadata": {},
   "outputs": [
    {
     "name": "stdout",
     "output_type": "stream",
     "text": [
      "<class 'int'>\n",
      "<class 'bool'>\n",
      "<class 'float'>\n",
      "<class 'complex'>\n",
      "Hello World\n",
      "11\n",
      "True\n",
      "YES\n",
      "llo\n",
      "Hello Worl\n",
      "HELLO WORLD\n",
      "hello world\n"
     ]
    }
   ],
   "source": [
    "#Data Type\n",
    "#Data Type\n",
    "var1=1 #int data type\n",
    "print(type(var1))\n",
    "var2=True #bool data type\n",
    "print(type(var2))\n",
    "var3=10.023 #float data type\n",
    "print(type(var3))\n",
    "var=10+3j #complex data type\n",
    "print(type(var))\n",
    "\n",
    "#string data type\n",
    "#single line string\n",
    "var4=print(\"Hello World\")\n",
    "\n",
    "#multi line string\n",
    "var5='''Hello'''\n",
    "var6=\"\"\"World\"\"\"\n",
    "\n",
    "#Length of a string\n",
    "a=\"Hello World\"\n",
    "print(len(a))\n",
    "\n",
    "#check string\n",
    "txt=\"The best things in the life are free!\"\n",
    "print(\"free\" in txt) \n",
    "if \"best\" in txt:\n",
    "    print(\"YES\")\n",
    "\n",
    "#slicing string\n",
    "b=\"Hello World\"\n",
    "print(b[2:5])\n",
    "\n",
    "print(b[-len(b):-1])\n",
    "\n",
    "#upper case\n",
    "a=\"Hello World\"\n",
    "print(a.upper())\n",
    "\n",
    "#lowercase\n",
    "a=\"Hello World\"\n",
    "print(a.lower())\n"
   ]
  }
 ],
 "metadata": {
  "kernelspec": {
   "display_name": "base",
   "language": "python",
   "name": "python3"
  },
  "language_info": {
   "codemirror_mode": {
    "name": "ipython",
    "version": 3
   },
   "file_extension": ".py",
   "mimetype": "text/x-python",
   "name": "python",
   "nbconvert_exporter": "python",
   "pygments_lexer": "ipython3",
   "version": "3.11.7"
  }
 },
 "nbformat": 4,
 "nbformat_minor": 5
}
