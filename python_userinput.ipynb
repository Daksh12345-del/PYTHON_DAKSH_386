{
 "cells": [
  {
   "cell_type": "code",
   "execution_count": 6,
   "id": "6e061da0",
   "metadata": {},
   "outputs": [
    {
     "name": "stdout",
     "output_type": "stream",
     "text": [
      "My name is: Daksh\n",
      "The sum is: 13\n"
     ]
    }
   ],
   "source": [
    "a=input(\"Enter your name:\")\n",
    "print(\"My name is:\",a)\n",
    "\n",
    "\n",
    "x=input(\"Enter a number\")\n",
    "y=input(\"Enter your another number\")\n",
    "print(\"The sum is:\",int(x)+int(y))"
   ]
  }
 ],
 "metadata": {
  "kernelspec": {
   "display_name": "base",
   "language": "python",
   "name": "python3"
  },
  "language_info": {
   "codemirror_mode": {
    "name": "ipython",
    "version": 3
   },
   "file_extension": ".py",
   "mimetype": "text/x-python",
   "name": "python",
   "nbconvert_exporter": "python",
   "pygments_lexer": "ipython3",
   "version": "3.11.7"
  }
 },
 "nbformat": 4,
 "nbformat_minor": 5
}
