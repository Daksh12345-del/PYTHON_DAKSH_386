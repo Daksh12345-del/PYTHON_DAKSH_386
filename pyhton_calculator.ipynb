{
 "cells": [
  {
   "cell_type": "code",
   "execution_count": null,
   "id": "29e57661",
   "metadata": {},
   "outputs": [
    {
     "name": "stdout",
     "output_type": "stream",
     "text": [
      "5  3= 8\n",
      "difference is: 2\n",
      "product is 15\n",
      "divison is 1.6666666666666667\n",
      "modulus is 2\n",
      "floor division is 1\n",
      "exponent is 125\n"
     ]
    }
   ],
   "source": [
    "a=5\n",
    "b=3\n",
    "print(\"sum is\",a+b)\n",
    "print(\"difference is:\",a-b)\n",
    "print(\"product is\",a*b)\n",
    "print(\"divison is\",a/b)\n",
    "print(\"modulus is\",a%b)\n",
    "print(\"floor division is\",a//b)\n",
    "print(\"exponent is\",a**b)"
   ]
  }
 ],
 "metadata": {
  "kernelspec": {
   "display_name": "base",
   "language": "python",
   "name": "python3"
  },
  "language_info": {
   "codemirror_mode": {
    "name": "ipython",
    "version": 3
   },
   "file_extension": ".py",
   "mimetype": "text/x-python",
   "name": "python",
   "nbconvert_exporter": "python",
   "pygments_lexer": "ipython3",
   "version": "3.11.7"
  }
 },
 "nbformat": 4,
 "nbformat_minor": 5
}
